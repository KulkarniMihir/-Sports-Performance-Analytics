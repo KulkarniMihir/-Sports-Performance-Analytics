{
 "cells": [
  {
   "cell_type": "markdown",
   "metadata": {},
   "source": [
    "### Import useful libraries\n"
   ]
  },
  {
   "cell_type": "code",
   "execution_count": 1,
   "metadata": {},
   "outputs": [],
   "source": [
    "import pandas as pd\n",
    "import numpy as np\n",
    "import matplotlib.pyplot as plt"
   ]
  },
  {
   "cell_type": "markdown",
   "metadata": {},
   "source": [
    "### In this section, we will use the NHL_Team_Stats dataset we compiled and cleaned up in the assignment for Week 2. \n",
    "Import both NHL_Team_Stats and NHL_Team_R_Stats data from Week 2 assignment into Python."
   ]
  },
  {
   "cell_type": "code",
   "execution_count": 2,
   "metadata": {},
   "outputs": [
    {
     "data": {
      "text/html": [
       "<div>\n",
       "<style scoped>\n",
       "    .dataframe tbody tr th:only-of-type {\n",
       "        vertical-align: middle;\n",
       "    }\n",
       "\n",
       "    .dataframe tbody tr th {\n",
       "        vertical-align: top;\n",
       "    }\n",
       "\n",
       "    .dataframe thead th {\n",
       "        text-align: right;\n",
       "    }\n",
       "</style>\n",
       "<table border=\"1\" class=\"dataframe\">\n",
       "  <thead>\n",
       "    <tr style=\"text-align: right;\">\n",
       "      <th></th>\n",
       "      <th>tricode</th>\n",
       "      <th>pp</th>\n",
       "      <th>pk</th>\n",
       "      <th>ppgf</th>\n",
       "      <th>competition_name</th>\n",
       "      <th>tid</th>\n",
       "      <th>type</th>\n",
       "      <th>win</th>\n",
       "      <th>goals_for</th>\n",
       "      <th>goals_against</th>\n",
       "      <th>game_count</th>\n",
       "      <th>team_name</th>\n",
       "      <th>win_pct</th>\n",
       "      <th>avg_gf</th>\n",
       "      <th>avg_ga</th>\n",
       "    </tr>\n",
       "  </thead>\n",
       "  <tbody>\n",
       "    <tr>\n",
       "      <th>0</th>\n",
       "      <td>ANA</td>\n",
       "      <td>35</td>\n",
       "      <td>27</td>\n",
       "      <td>9.0</td>\n",
       "      <td>2010 NHL Playoff</td>\n",
       "      <td>21</td>\n",
       "      <td>3</td>\n",
       "      <td>2</td>\n",
       "      <td>19.0</td>\n",
       "      <td>22.0</td>\n",
       "      <td>6</td>\n",
       "      <td>Anaheim Ducks</td>\n",
       "      <td>0.333333</td>\n",
       "      <td>3.166667</td>\n",
       "      <td>3.666667</td>\n",
       "    </tr>\n",
       "    <tr>\n",
       "      <th>1</th>\n",
       "      <td>BOS</td>\n",
       "      <td>126</td>\n",
       "      <td>116</td>\n",
       "      <td>22.0</td>\n",
       "      <td>2010 NHL Playoff</td>\n",
       "      <td>20</td>\n",
       "      <td>3</td>\n",
       "      <td>16</td>\n",
       "      <td>76.0</td>\n",
       "      <td>48.0</td>\n",
       "      <td>24</td>\n",
       "      <td>Boston Bruins</td>\n",
       "      <td>0.666667</td>\n",
       "      <td>3.166667</td>\n",
       "      <td>2.000000</td>\n",
       "    </tr>\n",
       "    <tr>\n",
       "      <th>2</th>\n",
       "      <td>BUF</td>\n",
       "      <td>48</td>\n",
       "      <td>46</td>\n",
       "      <td>13.0</td>\n",
       "      <td>2010 NHL Playoff</td>\n",
       "      <td>17</td>\n",
       "      <td>3</td>\n",
       "      <td>3</td>\n",
       "      <td>17.0</td>\n",
       "      <td>22.0</td>\n",
       "      <td>7</td>\n",
       "      <td>Buffalo Sabres</td>\n",
       "      <td>0.428571</td>\n",
       "      <td>2.428571</td>\n",
       "      <td>3.142857</td>\n",
       "    </tr>\n",
       "    <tr>\n",
       "      <th>3</th>\n",
       "      <td>CHI</td>\n",
       "      <td>27</td>\n",
       "      <td>39</td>\n",
       "      <td>6.0</td>\n",
       "      <td>2010 NHL Playoff</td>\n",
       "      <td>6</td>\n",
       "      <td>3</td>\n",
       "      <td>3</td>\n",
       "      <td>22.0</td>\n",
       "      <td>16.0</td>\n",
       "      <td>7</td>\n",
       "      <td>Chicago Blackhawks</td>\n",
       "      <td>0.428571</td>\n",
       "      <td>3.142857</td>\n",
       "      <td>2.285714</td>\n",
       "    </tr>\n",
       "    <tr>\n",
       "      <th>4</th>\n",
       "      <td>DET</td>\n",
       "      <td>59</td>\n",
       "      <td>55</td>\n",
       "      <td>6.0</td>\n",
       "      <td>2010 NHL Playoff</td>\n",
       "      <td>18</td>\n",
       "      <td>3</td>\n",
       "      <td>7</td>\n",
       "      <td>36.0</td>\n",
       "      <td>27.0</td>\n",
       "      <td>11</td>\n",
       "      <td>Detroit Red Wings</td>\n",
       "      <td>0.636364</td>\n",
       "      <td>3.272727</td>\n",
       "      <td>2.454545</td>\n",
       "    </tr>\n",
       "  </tbody>\n",
       "</table>\n",
       "</div>"
      ],
      "text/plain": [
       "  tricode   pp   pk  ppgf  competition_name  tid  type  win  goals_for  \\\n",
       "0     ANA   35   27   9.0  2010 NHL Playoff   21     3    2       19.0   \n",
       "1     BOS  126  116  22.0  2010 NHL Playoff   20     3   16       76.0   \n",
       "2     BUF   48   46  13.0  2010 NHL Playoff   17     3    3       17.0   \n",
       "3     CHI   27   39   6.0  2010 NHL Playoff    6     3    3       22.0   \n",
       "4     DET   59   55   6.0  2010 NHL Playoff   18     3    7       36.0   \n",
       "\n",
       "   goals_against  game_count           team_name   win_pct    avg_gf    avg_ga  \n",
       "0           22.0           6       Anaheim Ducks  0.333333  3.166667  3.666667  \n",
       "1           48.0          24       Boston Bruins  0.666667  3.166667  2.000000  \n",
       "2           22.0           7      Buffalo Sabres  0.428571  2.428571  3.142857  \n",
       "3           16.0           7  Chicago Blackhawks  0.428571  3.142857  2.285714  \n",
       "4           27.0          11   Detroit Red Wings  0.636364  3.272727  2.454545  "
      ]
     },
     "execution_count": 2,
     "metadata": {},
     "output_type": "execute_result"
    }
   ],
   "source": [
    "NHL_Team_Stats=pd.read_csv(\"../../Data/Week 4/NHL_Team_Stats.csv\")\n",
    "NHL_Team_R_Stats=pd.read_csv(\"../../Data/Week 4/NHL_Team_R_Stats.csv\")\n",
    "NHL_Team_Stats.head()"
   ]
  },
  {
   "cell_type": "markdown",
   "metadata": {
    "scrolled": false
   },
   "source": [
    "## Regression analyses in Python\n",
    "#### To run regressions in Python, we will introduce a new library, “statsmodels,” which is a Python module that provides classes and functions for the estimation of many different statistical models, as well as for conducting statistical tests, and statistical data exploration."
   ]
  },
  {
   "cell_type": "code",
   "execution_count": 3,
   "metadata": {},
   "outputs": [],
   "source": [
    "import statsmodels.formula.api as sm"
   ]
  },
  {
   "cell_type": "markdown",
   "metadata": {},
   "source": [
    "At the end of the assignment in week 2, we observed that there is a linear relationship between total goals for and winning percentage. Let’s run a regression where winning percentage is the dependent variable and total goals for is the explanatory variable. \n",
    "- We can use the command “ols()” to indicate an ordinary least squared regression. \n",
    "- The “fit()” function would allow us to obtain the estimated coefficient of our regression model."
   ]
  },
  {
   "cell_type": "code",
   "execution_count": 4,
   "metadata": {},
   "outputs": [],
   "source": [
    "reg1 = sm.ols(formula = 'win_pct ~ goals_for', data= NHL_Team_R_Stats).fit()"
   ]
  },
  {
   "cell_type": "markdown",
   "metadata": {},
   "source": [
    "After we run a regression, we can use the “summary()” command to obtain a number of statistics from our regression model.\n"
   ]
  },
  {
   "cell_type": "code",
   "execution_count": 5,
   "metadata": {},
   "outputs": [
    {
     "name": "stdout",
     "output_type": "stream",
     "text": [
      "                            OLS Regression Results                            \n",
      "==============================================================================\n",
      "Dep. Variable:                win_pct   R-squared:                       0.591\n",
      "Model:                            OLS   Adj. R-squared:                  0.588\n",
      "Method:                 Least Squares   F-statistic:                     258.2\n",
      "Date:                Tue, 16 Nov 2021   Prob (F-statistic):           1.52e-36\n",
      "Time:                        07:11:41   Log-Likelihood:                 253.82\n",
      "No. Observations:                 181   AIC:                            -503.6\n",
      "Df Residuals:                     179   BIC:                            -497.3\n",
      "Df Model:                           1                                         \n",
      "Covariance Type:            nonrobust                                         \n",
      "==============================================================================\n",
      "                 coef    std err          t      P>|t|      [0.025      0.975]\n",
      "------------------------------------------------------------------------------\n",
      "Intercept     -0.1781      0.042     -4.222      0.000      -0.261      -0.095\n",
      "goals_for      0.0030      0.000     16.067      0.000       0.003       0.003\n",
      "==============================================================================\n",
      "Omnibus:                        0.122   Durbin-Watson:                   1.709\n",
      "Prob(Omnibus):                  0.941   Jarque-Bera (JB):                0.197\n",
      "Skew:                          -0.060   Prob(JB):                        0.906\n",
      "Kurtosis:                       2.891   Cond. No.                     2.18e+03\n",
      "==============================================================================\n",
      "\n",
      "Warnings:\n",
      "[1] Standard Errors assume that the covariance matrix of the errors is correctly specified.\n",
      "[2] The condition number is large, 2.18e+03. This might indicate that there are\n",
      "strong multicollinearity or other numerical problems.\n"
     ]
    }
   ],
   "source": [
    "print(reg1.summary())"
   ]
  },
  {
   "cell_type": "markdown",
   "metadata": {},
   "source": [
    "### Interpreting results\n",
    "From the result table, we can see that the dependent variable is winning percentage (\"win_pct\") and there are 181 observations in this regression. The independent variable is the number of goals for the team (\"goals_for\"). An intercept is also included in the regression. \n",
    "\n",
    "The estimated coefficient on goals_for is 0.003. This means that an additional goal scored by the team will increase the team's winning percentage of 0.003. The estimate on the intercept is -0.1781. This means that without scoring any goal, the winning percentage for the team would be -0.1781. As we know, the winning percentage cannot be negative. The reason we get a negative estimate on the intercept is because in our sample, there is not a single game where a team scored zero goals.\n",
    "\n",
    "- t-statistics and p-value\n",
    "\n",
    "t-statistics is defined as the estimated coefficient divided by its standard error. If the estimated coefficient is large compared to its standard error, then it is likely to be different than zero. \n",
    "\n",
    "p-value is defined as the probability of obtaining a result as extreme as the result actually observed, in this case, the t-statistics we have in the regression analysis. Comparing the t-statistics with the student t distribution, if 95% of the t distribution is closer to the mean than the t-statistics, we will have p-value of 0.05, which is also referred to a 5% significance level. A p-value no more than 0.05 (5%) is generally accepted in rejecting the null hypothesis. We say that the estimated coefficient is statistically significant at the 5% level.\n",
    "\n",
    "In this regression, the p-value of the goals_for variable is 0.000 which suggests that the estimate is statistically significant at the 1% level.\n",
    "\n",
    "\n",
    "- R-squared\n",
    "\n",
    "\n",
    "R-squared measures the goodness of fit of the model. The R-squared of a regression is the fraction of the variation in the dependent variable that is accounted for by the independent variables. R-squared is always between 0 and 1. The larger the R-squared, the more variation is accounted for by the regression model.\n",
    "\n",
    "In this regression, the R-squared is 0.591 which means that approximately 59.1% of the variation of the winning percentage is accounted for by the model."
   ]
  },
  {
   "cell_type": "markdown",
   "metadata": {},
   "source": [
    "#### Let's explore the relationship between goals_against and winning percentage in the regular season.\n",
    "- Create a scatter plot to depict the relationship between total goals against and winning percentage without seperating the data by competition"
   ]
  },
  {
   "cell_type": "code",
   "execution_count": 6,
   "metadata": {},
   "outputs": [
    {
     "data": {
      "text/plain": [
       "Text(0.5, 1.0, 'Relationship between Goals against and Winning Percentage')"
      ]
     },
     "execution_count": 6,
     "metadata": {},
     "output_type": "execute_result"
    },
    {
     "data": {
      "image/png": "[encoded data removed]",
      "text/plain": [
       "<Figure size 360x360 with 1 Axes>"
      ]
     },
     "metadata": {
      "needs_background": "light"
     },
     "output_type": "display_data"
    }
   ],
   "source": [
    "import seaborn as sns\n",
    "sns.lmplot(x='goals_against', y='win_pct',  data=NHL_Team_R_Stats)\n",
    "plt.xlabel('Total Goals against')\n",
    "plt.ylabel('Winning Percentage')\n",
    "plt.title(\"Relationship between Goals against and Winning Percentage\", fontsize=20)"
   ]
  },
  {
   "cell_type": "markdown",
   "metadata": {},
   "source": [
    "- Calculate the correlation coefficient between goals against and winning percentage\n"
   ]
  },
  {
   "cell_type": "code",
   "execution_count": 7,
   "metadata": {},
   "outputs": [
    {
     "data": {
      "text/plain": [
       "-0.7445117715217243"
      ]
     },
     "execution_count": 7,
     "metadata": {},
     "output_type": "execute_result"
    }
   ],
   "source": [
    "NHL_Team_R_Stats['goals_against'].corr(NHL_Team_R_Stats['win_pct'])"
   ]
  },
  {
   "cell_type": "markdown",
   "metadata": {},
   "source": [
    "- Run a simple linear regression to find NHL team winning percentage as a function of total goals against\n"
   ]
  },
  {
   "cell_type": "code",
   "execution_count": 8,
   "metadata": {},
   "outputs": [
    {
     "name": "stdout",
     "output_type": "stream",
     "text": [
      "                            OLS Regression Results                            \n",
      "==============================================================================\n",
      "Dep. Variable:                win_pct   R-squared:                       0.554\n",
      "Model:                            OLS   Adj. R-squared:                  0.552\n",
      "Method:                 Least Squares   F-statistic:                     222.6\n",
      "Date:                Tue, 16 Nov 2021   Prob (F-statistic):           3.09e-33\n",
      "Time:                        07:11:42   Log-Likelihood:                 246.15\n",
      "No. Observations:                 181   AIC:                            -488.3\n",
      "Df Residuals:                     179   BIC:                            -481.9\n",
      "Df Model:                           1                                         \n",
      "Covariance Type:            nonrobust                                         \n",
      "=================================================================================\n",
      "                    coef    std err          t      P>|t|      [0.025      0.975]\n",
      "---------------------------------------------------------------------------------\n",
      "Intercept         1.1651      0.045     25.839      0.000       1.076       1.254\n",
      "goals_against    -0.0029      0.000    -14.920      0.000      -0.003      -0.003\n",
      "==============================================================================\n",
      "Omnibus:                        0.581   Durbin-Watson:                   1.647\n",
      "Prob(Omnibus):                  0.748   Jarque-Bera (JB):                0.688\n",
      "Skew:                          -0.125   Prob(JB):                        0.709\n",
      "Kurtosis:                       2.830   Cond. No.                     2.23e+03\n",
      "==============================================================================\n",
      "\n",
      "Warnings:\n",
      "[1] Standard Errors assume that the covariance matrix of the errors is correctly specified.\n",
      "[2] The condition number is large, 2.23e+03. This might indicate that there are\n",
      "strong multicollinearity or other numerical problems.\n"
     ]
    }
   ],
   "source": [
    "reg2 = sm.ols(formula = 'win_pct ~ goals_against', data= NHL_Team_R_Stats).fit()\n",
    "print(reg2.summary())"
   ]
  },
  {
   "cell_type": "markdown",
   "metadata": {},
   "source": [
    "## Self Test - 1\n",
    "1. Use the regular season data, create a scatterplot and a regression line to demonstrate the relationship between average goals for per game and winning percentage.\n",
    "2. Run a linear regression where winning percentage is the dependent variable and average goals for is the explanatory variable\n",
    "3. Interpret the coefficient on the average goals for, is this estimate statistically significant?\n",
    "4. How well does this regression do in fitting the data?"
   ]
  },
  {
   "cell_type": "code",
   "execution_count": 21,
   "metadata": {},
   "outputs": [
    {
     "data": {
      "text/plain": [
       "Text(0.5, 1.0, 'Relationship between Goals for and Winning Percentage')"
      ]
     },
     "execution_count": 21,
     "metadata": {},
     "output_type": "execute_result"
    },
    {
     "data": {
      "image/png": "[encoded data removed]",
      "text/plain": [
       "<Figure size 360x360 with 1 Axes>"
      ]
     },
     "metadata": {
      "needs_background": "light"
     },
     "output_type": "display_data"
    }
   ],
   "source": [
    "#Your Code Here\n",
    "sns.lmplot(x='goals_for', y='win_pct',  data=NHL_Team_R_Stats)\n",
    "plt.xlabel('Total Goals for')\n",
    "plt.ylabel('Winning Percentage')\n",
    "plt.title(\"Relationship between Goals for and Winning Percentage\", fontsize=20)"
   ]
  },
  {
   "cell_type": "code",
   "execution_count": 22,
   "metadata": {},
   "outputs": [
    {
     "data": {
      "text/plain": [
       "0.7684623749580162"
      ]
     },
     "execution_count": 22,
     "metadata": {},
     "output_type": "execute_result"
    }
   ],
   "source": [
    "NHL_Team_R_Stats['goals_for'].corr(NHL_Team_R_Stats['win_pct'])"
   ]
  },
  {
   "cell_type": "code",
   "execution_count": 23,
   "metadata": {},
   "outputs": [
    {
     "name": "stdout",
     "output_type": "stream",
     "text": [
      "                            OLS Regression Results                            \n",
      "==============================================================================\n",
      "Dep. Variable:                win_pct   R-squared:                       0.591\n",
      "Model:                            OLS   Adj. R-squared:                  0.588\n",
      "Method:                 Least Squares   F-statistic:                     258.2\n",
      "Date:                Tue, 16 Nov 2021   Prob (F-statistic):           1.52e-36\n",
      "Time:                        07:15:20   Log-Likelihood:                 253.82\n",
      "No. Observations:                 181   AIC:                            -503.6\n",
      "Df Residuals:                     179   BIC:                            -497.3\n",
      "Df Model:                           1                                         \n",
      "Covariance Type:            nonrobust                                         \n",
      "==============================================================================\n",
      "                 coef    std err          t      P>|t|      [0.025      0.975]\n",
      "------------------------------------------------------------------------------\n",
      "Intercept     -0.1781      0.042     -4.222      0.000      -0.261      -0.095\n",
      "goals_for      0.0030      0.000     16.067      0.000       0.003       0.003\n",
      "==============================================================================\n",
      "Omnibus:                        0.122   Durbin-Watson:                   1.709\n",
      "Prob(Omnibus):                  0.941   Jarque-Bera (JB):                0.197\n",
      "Skew:                          -0.060   Prob(JB):                        0.906\n",
      "Kurtosis:                       2.891   Cond. No.                     2.18e+03\n",
      "==============================================================================\n",
      "\n",
      "Warnings:\n",
      "[1] Standard Errors assume that the covariance matrix of the errors is correctly specified.\n",
      "[2] The condition number is large, 2.18e+03. This might indicate that there are\n",
      "strong multicollinearity or other numerical problems.\n"
     ]
    }
   ],
   "source": [
    "reg3 = sm.ols(formula = 'win_pct ~ goals_for', data= NHL_Team_R_Stats).fit()\n",
    "print(reg3.summary())"
   ]
  },
  {
   "cell_type": "markdown",
   "metadata": {},
   "source": [
    "### Multiple Regression -  more than one explanatory variables.\n",
    "Often times, the outcome variable of interest is affected by multiple factors. We can specify a regression equation where the outcome is function of more than one explanatory variables.\n",
    "\n",
    "Let's run a linear regression where winning percentage is a function of both average number of goals for per game and average number of goals against per game."
   ]
  },
  {
   "cell_type": "code",
   "execution_count": 10,
   "metadata": {},
   "outputs": [
    {
     "name": "stdout",
     "output_type": "stream",
     "text": [
      "                            OLS Regression Results                            \n",
      "==============================================================================\n",
      "Dep. Variable:                win_pct   R-squared:                       0.917\n",
      "Model:                            OLS   Adj. R-squared:                  0.916\n",
      "Method:                 Least Squares   F-statistic:                     985.1\n",
      "Date:                Tue, 16 Nov 2021   Prob (F-statistic):           5.39e-97\n",
      "Time:                        07:11:42   Log-Likelihood:                 398.42\n",
      "No. Observations:                 181   AIC:                            -790.8\n",
      "Df Residuals:                     178   BIC:                            -781.2\n",
      "Df Model:                           2                                         \n",
      "Covariance Type:            nonrobust                                         \n",
      "==============================================================================\n",
      "                 coef    std err          t      P>|t|      [0.025      0.975]\n",
      "------------------------------------------------------------------------------\n",
      "Intercept      0.4862      0.031     15.559      0.000       0.425       0.548\n",
      "avg_gf         0.1909      0.007     27.295      0.000       0.177       0.205\n",
      "avg_ga        -0.1874      0.007    -27.193      0.000      -0.201      -0.174\n",
      "==============================================================================\n",
      "Omnibus:                        1.055   Durbin-Watson:                   1.989\n",
      "Prob(Omnibus):                  0.590   Jarque-Bera (JB):                0.969\n",
      "Skew:                           0.179   Prob(JB):                        0.616\n",
      "Kurtosis:                       2.974   Cond. No.                         66.6\n",
      "==============================================================================\n",
      "\n",
      "Warnings:\n",
      "[1] Standard Errors assume that the covariance matrix of the errors is correctly specified.\n"
     ]
    }
   ],
   "source": [
    "reg4 = sm.ols(formula = 'win_pct ~ avg_gf+avg_ga', data= NHL_Team_R_Stats).fit()\n",
    "print(reg4.summary())"
   ]
  },
  {
   "cell_type": "markdown",
   "metadata": {},
   "source": [
    "_Interpret the coefficients_\n",
    "\n",
    "- Average goals for: for the same average number of goals against, scoring one more goal per game will increase the winning percentage by 0.1909 (19.09%)\n",
    "- Average goals against: having the same average number of goals for per game, conceding one more goal per game will decrease the winning percentage by 0.1874 (18.74%)"
   ]
  },
  {
   "cell_type": "markdown",
   "metadata": {},
   "source": [
    "### Regression with categorical variables\n",
    "In the above regressions, we focus on using quantitative variables as explanatory variables. We could also include categorical variables as explanatory variables in the regression as well.\n",
    "\n",
    "Essentially, when we incorporate a categorical variable, we first transform it into dummy variable(s) that carry value of either 0 or 1. We then use the dummy variable(s) into our regression.\n",
    "\n",
    "Let's consider the dataset that includes both regular season and playoff. In this dataset, the variable \"type\" captures whether a game is a regular season game or playoff game. type=2 means it is regular season competition while type=3 means it is a playoff game.\n",
    "\n",
    "_We will first convert variable \"type\" into categorical variable._"
   ]
  },
  {
   "cell_type": "code",
   "execution_count": 11,
   "metadata": {},
   "outputs": [],
   "source": [
    "NHL_Team_Stats['type']=NHL_Team_Stats['type'].astype(object)"
   ]
  },
  {
   "cell_type": "markdown",
   "metadata": {},
   "source": [
    "Now we can run a regression where winning percentage is a function of average goals for and the type of competition. "
   ]
  },
  {
   "cell_type": "code",
   "execution_count": 12,
   "metadata": {},
   "outputs": [
    {
     "name": "stdout",
     "output_type": "stream",
     "text": [
      "                            OLS Regression Results                            \n",
      "==============================================================================\n",
      "Dep. Variable:                win_pct   R-squared:                       0.426\n",
      "Model:                            OLS   Adj. R-squared:                  0.423\n",
      "Method:                 Least Squares   F-statistic:                     136.0\n",
      "Date:                Tue, 16 Nov 2021   Prob (F-statistic):           6.88e-45\n",
      "Time:                        07:11:42   Log-Likelihood:                 320.28\n",
      "No. Observations:                 369   AIC:                            -634.6\n",
      "Df Residuals:                     366   BIC:                            -622.8\n",
      "Df Model:                           2                                         \n",
      "Covariance Type:            nonrobust                                         \n",
      "==============================================================================\n",
      "                 coef    std err          t      P>|t|      [0.025      0.975]\n",
      "------------------------------------------------------------------------------\n",
      "Intercept     -0.0197      0.035     -0.558      0.577      -0.089       0.050\n",
      "type[T.3]     -0.0160      0.012     -1.344      0.180      -0.039       0.007\n",
      "avg_gf         0.1818      0.012     14.914      0.000       0.158       0.206\n",
      "==============================================================================\n",
      "Omnibus:                       63.422   Durbin-Watson:                   1.880\n",
      "Prob(Omnibus):                  0.000   Jarque-Bera (JB):              156.332\n",
      "Skew:                          -0.843   Prob(JB):                     1.13e-34\n",
      "Kurtosis:                       5.707   Cond. No.                         20.9\n",
      "==============================================================================\n",
      "\n",
      "Warnings:\n",
      "[1] Standard Errors assume that the covariance matrix of the errors is correctly specified.\n"
     ]
    }
   ],
   "source": [
    "reg5 = sm.ols(formula = 'win_pct ~ avg_gf+type', data= NHL_Team_Stats).fit()\n",
    "print(reg5.summary())"
   ]
  },
  {
   "cell_type": "markdown",
   "metadata": {},
   "source": [
    "A dummy variable = 1 if type= 3 (playoff) and = 0 if type = 2 (regular season) is included in the regression.\n",
    "\n",
    "_Interpretation: with the same average goals for per game, the winning percentage in the playoff games is 0.0160 (1.6%) lower than the winning percentage in the regular season games._\n"
   ]
  },
  {
   "cell_type": "markdown",
   "metadata": {},
   "source": [
    "## Self Test - 2\n",
    "1. Run a regression where winning percentage is a function of average goals for, average goals against, and control for the different competitions.\n",
    "\n",
    "2. Interpret the coefficients."
   ]
  },
  {
   "cell_type": "code",
   "execution_count": 24,
   "metadata": {},
   "outputs": [
    {
     "name": "stdout",
     "output_type": "stream",
     "text": [
      "                            OLS Regression Results                            \n",
      "==============================================================================\n",
      "Dep. Variable:                win_pct   R-squared:                       0.778\n",
      "Model:                            OLS   Adj. R-squared:                  0.776\n",
      "Method:                 Least Squares   F-statistic:                     425.3\n",
      "Date:                Tue, 16 Nov 2021   Prob (F-statistic):          9.88e-119\n",
      "Time:                        07:18:18   Log-Likelihood:                 495.08\n",
      "No. Observations:                 369   AIC:                            -982.2\n",
      "Df Residuals:                     365   BIC:                            -966.5\n",
      "Df Model:                           3                                         \n",
      "Covariance Type:            nonrobust                                         \n",
      "==============================================================================\n",
      "                 coef    std err          t      P>|t|      [0.025      0.975]\n",
      "------------------------------------------------------------------------------\n",
      "Intercept      0.4288      0.029     14.869      0.000       0.372       0.486\n",
      "type[T.3]     -0.0184      0.007     -2.480      0.014      -0.033      -0.004\n",
      "avg_gf         0.1924      0.008     25.267      0.000       0.177       0.207\n",
      "avg_ga        -0.1685      0.007    -24.008      0.000      -0.182      -0.155\n",
      "==============================================================================\n",
      "Omnibus:                       52.942   Durbin-Watson:                   2.034\n",
      "Prob(Omnibus):                  0.000   Jarque-Bera (JB):              181.812\n",
      "Skew:                          -0.594   Prob(JB):                     3.31e-40\n",
      "Kurtosis:                       6.227   Cond. No.                         36.8\n",
      "==============================================================================\n",
      "\n",
      "Warnings:\n",
      "[1] Standard Errors assume that the covariance matrix of the errors is correctly specified.\n"
     ]
    }
   ],
   "source": [
    "#Your Code Here\n",
    "reg6 = sm.ols(formula = 'win_pct ~ avg_gf+avg_ga+type', data= NHL_Team_Stats).fit()\n",
    "print(reg6.summary())"
   ]
  },
  {
   "cell_type": "markdown",
   "metadata": {},
   "source": [
    "### Regression with an interaction term\n",
    "\n",
    "What if the impact of an independent variable depends on the value of another variable? We can use interaction terms to allow for different impact of a variable based on one or more levels of another categorical variable.\n",
    "\n",
    "Let's consider the possibility that the average goals for may have different impact on winning percentage depending on the type of the game. We can run a regression of winning percentage on the average goals for, the type of the game, as well as the interaction between average goals for and type."
   ]
  },
  {
   "cell_type": "code",
   "execution_count": 14,
   "metadata": {},
   "outputs": [
    {
     "name": "stdout",
     "output_type": "stream",
     "text": [
      "                            OLS Regression Results                            \n",
      "==============================================================================\n",
      "Dep. Variable:                win_pct   R-squared:                       0.441\n",
      "Model:                            OLS   Adj. R-squared:                  0.436\n",
      "Method:                 Least Squares   F-statistic:                     96.00\n",
      "Date:                Tue, 16 Nov 2021   Prob (F-statistic):           8.01e-46\n",
      "Time:                        07:11:42   Log-Likelihood:                 325.08\n",
      "No. Observations:                 369   AIC:                            -642.2\n",
      "Df Residuals:                     365   BIC:                            -626.5\n",
      "Df Model:                           3                                         \n",
      "Covariance Type:            nonrobust                                         \n",
      "====================================================================================\n",
      "                       coef    std err          t      P>|t|      [0.025      0.975]\n",
      "------------------------------------------------------------------------------------\n",
      "Intercept           -0.1748      0.061     -2.868      0.004      -0.295      -0.055\n",
      "type[T.3]            0.2029      0.072      2.835      0.005       0.062       0.344\n",
      "avg_gf               0.2365      0.021     11.081      0.000       0.194       0.278\n",
      "avg_gf:type[T.3]    -0.0802      0.026     -3.102      0.002      -0.131      -0.029\n",
      "==============================================================================\n",
      "Omnibus:                       59.042   Durbin-Watson:                   1.801\n",
      "Prob(Omnibus):                  0.000   Jarque-Bera (JB):              145.437\n",
      "Skew:                          -0.787   Prob(JB):                     2.62e-32\n",
      "Kurtosis:                       5.643   Cond. No.                         56.6\n",
      "==============================================================================\n",
      "\n",
      "Warnings:\n",
      "[1] Standard Errors assume that the covariance matrix of the errors is correctly specified.\n"
     ]
    }
   ],
   "source": [
    "reg7 = sm.ols(formula = 'win_pct ~ avg_gf+type+avg_gf*type', data= NHL_Team_Stats).fit()\n",
    "print(reg7.summary())"
   ]
  },
  {
   "cell_type": "markdown",
   "metadata": {},
   "source": [
    "_Interpretations_\n",
    "\n",
    "- For regular season games (type =2), scoring one more goal per game can increase the winning percentage by 0.2365 (23.65%);\n",
    "- For the playoff games (type =3), scoring one more goal per game will increase the winning percentage by 0.2365-0.0802=0.1563 (15.63%).\n",
    "\n",
    "\n",
    "## Self Test - 3\n",
    "#### Perform a similar exercise to find the relationship between the actual winning percentage and pythagorean winning percentage\n",
    "1. In the NHL_Team_Stats data, create the pythagorean winning percentage=goals_for^2/(goals_for^2+goals_against^2), call this new variable \"pyth_pct\"\n",
    "(In Python, ** is the operator for exponentiation. For example, the square of x would be x**2 in Python.)"
   ]
  },
  {
   "cell_type": "code",
   "execution_count": 42,
   "metadata": {},
   "outputs": [
    {
     "name": "stdout",
     "output_type": "stream",
     "text": [
      "0      0.003534\n",
      "1      0.048579\n",
      "2      0.002820\n",
      "3      0.004094\n",
      "4      0.011203\n",
      "5      0.002482\n",
      "6      0.002397\n",
      "7      0.009918\n",
      "8      0.000527\n",
      "9      0.007582\n",
      "10     0.000674\n",
      "11     0.001799\n",
      "12     0.026874\n",
      "13     0.027614\n",
      "14     0.033832\n",
      "15     0.005094\n",
      "16     0.744800\n",
      "17     0.606851\n",
      "18     0.492894\n",
      "19     0.676717\n",
      "20     0.580823\n",
      "21     0.433034\n",
      "22     0.603719\n",
      "23     0.626531\n",
      "24     0.449098\n",
      "25     0.514986\n",
      "26     0.546089\n",
      "27     0.322198\n",
      "28     0.383252\n",
      "29     0.562787\n",
      "         ...   \n",
      "339         NaN\n",
      "340         NaN\n",
      "341         NaN\n",
      "342         NaN\n",
      "343         NaN\n",
      "344         NaN\n",
      "345         NaN\n",
      "346         NaN\n",
      "347         NaN\n",
      "348         NaN\n",
      "349         NaN\n",
      "350         NaN\n",
      "351         NaN\n",
      "352         NaN\n",
      "353         NaN\n",
      "354         NaN\n",
      "355         NaN\n",
      "356         NaN\n",
      "357         NaN\n",
      "358         NaN\n",
      "359         NaN\n",
      "360         NaN\n",
      "361         NaN\n",
      "362         NaN\n",
      "363         NaN\n",
      "364         NaN\n",
      "365         NaN\n",
      "366         NaN\n",
      "367         NaN\n",
      "368         NaN\n",
      "Length: 369, dtype: float64\n"
     ]
    }
   ],
   "source": [
    "#Your Code Here\n",
    "pyth_pct=((NHL_Team_Stats['goals_for']**2)/((NHL_Team_R_Stats['goals_for']**2)+(NHL_Team_R_Stats['goals_against']**2)))\n",
    "print(pyth_pct)"
   ]
  },
  {
   "cell_type": "code",
   "execution_count": 43,
   "metadata": {},
   "outputs": [
    {
     "data": {
      "text/plain": [
       "0.3008343683135788"
      ]
     },
     "execution_count": 43,
     "metadata": {},
     "output_type": "execute_result"
    }
   ],
   "source": [
    "pyth_pct.corr(NHL_Team_Stats['win_pct'])"
   ]
  },
  {
   "cell_type": "code",
   "execution_count": 44,
   "metadata": {},
   "outputs": [
    {
     "data": {
      "text/html": [
       "<div>\n",
       "<style scoped>\n",
       "    .dataframe tbody tr th:only-of-type {\n",
       "        vertical-align: middle;\n",
       "    }\n",
       "\n",
       "    .dataframe tbody tr th {\n",
       "        vertical-align: top;\n",
       "    }\n",
       "\n",
       "    .dataframe thead th {\n",
       "        text-align: right;\n",
       "    }\n",
       "</style>\n",
       "<table border=\"1\" class=\"dataframe\">\n",
       "  <thead>\n",
       "    <tr style=\"text-align: right;\">\n",
       "      <th></th>\n",
       "      <th>tricode</th>\n",
       "      <th>pp</th>\n",
       "      <th>pk</th>\n",
       "      <th>ppgf</th>\n",
       "      <th>competition_name</th>\n",
       "      <th>tid</th>\n",
       "      <th>type</th>\n",
       "      <th>win</th>\n",
       "      <th>goals_for</th>\n",
       "      <th>goals_against</th>\n",
       "      <th>game_count</th>\n",
       "      <th>team_name</th>\n",
       "      <th>win_pct</th>\n",
       "      <th>avg_gf</th>\n",
       "      <th>avg_ga</th>\n",
       "      <th>pyth_win_pct</th>\n",
       "    </tr>\n",
       "  </thead>\n",
       "  <tbody>\n",
       "    <tr>\n",
       "      <th>0</th>\n",
       "      <td>ANA</td>\n",
       "      <td>35</td>\n",
       "      <td>27</td>\n",
       "      <td>9.0</td>\n",
       "      <td>2010 NHL Playoff</td>\n",
       "      <td>21</td>\n",
       "      <td>3</td>\n",
       "      <td>2</td>\n",
       "      <td>19.0</td>\n",
       "      <td>22.0</td>\n",
       "      <td>6</td>\n",
       "      <td>Anaheim Ducks</td>\n",
       "      <td>0.333333</td>\n",
       "      <td>3.166667</td>\n",
       "      <td>3.666667</td>\n",
       "      <td>0.003534</td>\n",
       "    </tr>\n",
       "    <tr>\n",
       "      <th>1</th>\n",
       "      <td>BOS</td>\n",
       "      <td>126</td>\n",
       "      <td>116</td>\n",
       "      <td>22.0</td>\n",
       "      <td>2010 NHL Playoff</td>\n",
       "      <td>20</td>\n",
       "      <td>3</td>\n",
       "      <td>16</td>\n",
       "      <td>76.0</td>\n",
       "      <td>48.0</td>\n",
       "      <td>24</td>\n",
       "      <td>Boston Bruins</td>\n",
       "      <td>0.666667</td>\n",
       "      <td>3.166667</td>\n",
       "      <td>2.000000</td>\n",
       "      <td>0.048579</td>\n",
       "    </tr>\n",
       "    <tr>\n",
       "      <th>2</th>\n",
       "      <td>BUF</td>\n",
       "      <td>48</td>\n",
       "      <td>46</td>\n",
       "      <td>13.0</td>\n",
       "      <td>2010 NHL Playoff</td>\n",
       "      <td>17</td>\n",
       "      <td>3</td>\n",
       "      <td>3</td>\n",
       "      <td>17.0</td>\n",
       "      <td>22.0</td>\n",
       "      <td>7</td>\n",
       "      <td>Buffalo Sabres</td>\n",
       "      <td>0.428571</td>\n",
       "      <td>2.428571</td>\n",
       "      <td>3.142857</td>\n",
       "      <td>0.002820</td>\n",
       "    </tr>\n",
       "    <tr>\n",
       "      <th>3</th>\n",
       "      <td>CHI</td>\n",
       "      <td>27</td>\n",
       "      <td>39</td>\n",
       "      <td>6.0</td>\n",
       "      <td>2010 NHL Playoff</td>\n",
       "      <td>6</td>\n",
       "      <td>3</td>\n",
       "      <td>3</td>\n",
       "      <td>22.0</td>\n",
       "      <td>16.0</td>\n",
       "      <td>7</td>\n",
       "      <td>Chicago Blackhawks</td>\n",
       "      <td>0.428571</td>\n",
       "      <td>3.142857</td>\n",
       "      <td>2.285714</td>\n",
       "      <td>0.004094</td>\n",
       "    </tr>\n",
       "    <tr>\n",
       "      <th>4</th>\n",
       "      <td>DET</td>\n",
       "      <td>59</td>\n",
       "      <td>55</td>\n",
       "      <td>6.0</td>\n",
       "      <td>2010 NHL Playoff</td>\n",
       "      <td>18</td>\n",
       "      <td>3</td>\n",
       "      <td>7</td>\n",
       "      <td>36.0</td>\n",
       "      <td>27.0</td>\n",
       "      <td>11</td>\n",
       "      <td>Detroit Red Wings</td>\n",
       "      <td>0.636364</td>\n",
       "      <td>3.272727</td>\n",
       "      <td>2.454545</td>\n",
       "      <td>0.011203</td>\n",
       "    </tr>\n",
       "  </tbody>\n",
       "</table>\n",
       "</div>"
      ],
      "text/plain": [
       "  tricode   pp   pk  ppgf  competition_name  tid type  win  goals_for  \\\n",
       "0     ANA   35   27   9.0  2010 NHL Playoff   21    3    2       19.0   \n",
       "1     BOS  126  116  22.0  2010 NHL Playoff   20    3   16       76.0   \n",
       "2     BUF   48   46  13.0  2010 NHL Playoff   17    3    3       17.0   \n",
       "3     CHI   27   39   6.0  2010 NHL Playoff    6    3    3       22.0   \n",
       "4     DET   59   55   6.0  2010 NHL Playoff   18    3    7       36.0   \n",
       "\n",
       "   goals_against  game_count           team_name   win_pct    avg_gf  \\\n",
       "0           22.0           6       Anaheim Ducks  0.333333  3.166667   \n",
       "1           48.0          24       Boston Bruins  0.666667  3.166667   \n",
       "2           22.0           7      Buffalo Sabres  0.428571  2.428571   \n",
       "3           16.0           7  Chicago Blackhawks  0.428571  3.142857   \n",
       "4           27.0          11   Detroit Red Wings  0.636364  3.272727   \n",
       "\n",
       "     avg_ga  pyth_win_pct  \n",
       "0  3.666667      0.003534  \n",
       "1  2.000000      0.048579  \n",
       "2  3.142857      0.002820  \n",
       "3  2.285714      0.004094  \n",
       "4  2.454545      0.011203  "
      ]
     },
     "execution_count": 44,
     "metadata": {},
     "output_type": "execute_result"
    }
   ],
   "source": [
    "NHL_Team_Stats['pyth_win_pct']=pyth_pct\n",
    "NHL_Team_Stats.head()"
   ]
  },
  {
   "cell_type": "code",
   "execution_count": 41,
   "metadata": {},
   "outputs": [
    {
     "data": {
      "text/plain": [
       "(369, 15)"
      ]
     },
     "execution_count": 41,
     "metadata": {},
     "output_type": "execute_result"
    }
   ],
   "source": [
    "NHL_Team_Stats.head()\n",
    "NHL_Team_Stats.shape"
   ]
  },
  {
   "cell_type": "markdown",
   "metadata": {},
   "source": [
    "2. Create a scatter plot to show the relationship between Pythagorean winning percentage and the actual winning percentage\n"
   ]
  },
  {
   "cell_type": "code",
   "execution_count": 45,
   "metadata": {},
   "outputs": [
    {
     "data": {
      "text/plain": [
       "Text(0.5, 1.0, 'Relationship between Pythagorean and actual Winning Percentage')"
      ]
     },
     "execution_count": 45,
     "metadata": {},
     "output_type": "execute_result"
    },
    {
     "data": {
      "image/png": "[encoded data removed]",
      "text/plain": [
       "<Figure size 360x360 with 1 Axes>"
      ]
     },
     "metadata": {
      "needs_background": "light"
     },
     "output_type": "display_data"
    }
   ],
   "source": [
    "#Your Code Here\n",
    "sns.lmplot(x='pyth_win_pct', y='win_pct',  data=NHL_Team_Stats)\n",
    "plt.xlabel('Pythagorean winning percentage')\n",
    "plt.ylabel('actual winning percentagee')\n",
    "plt.title(\"Relationship between Pythagorean and actual Winning Percentage\", fontsize=20)"
   ]
  },
  {
   "cell_type": "markdown",
   "metadata": {},
   "source": [
    "3. Run a linear regression (reg8) where winning percentage is the dependent variable and Pythagorean winning percentage is the explanatory variable.\n",
    "4. Interpret the estimate on the Pythagorean winning percentage and the goodness of fit of the regression model.\n"
   ]
  },
  {
   "cell_type": "code",
   "execution_count": 46,
   "metadata": {},
   "outputs": [
    {
     "name": "stdout",
     "output_type": "stream",
     "text": [
      "                            OLS Regression Results                            \n",
      "==============================================================================\n",
      "Dep. Variable:                win_pct   R-squared:                       0.091\n",
      "Model:                            OLS   Adj. R-squared:                  0.085\n",
      "Method:                 Least Squares   F-statistic:                     17.81\n",
      "Date:                Tue, 16 Nov 2021   Prob (F-statistic):           3.87e-05\n",
      "Time:                        07:39:53   Log-Likelihood:                 120.27\n",
      "No. Observations:                 181   AIC:                            -236.5\n",
      "Df Residuals:                     179   BIC:                            -230.1\n",
      "Df Model:                           1                                         \n",
      "Covariance Type:            nonrobust                                         \n",
      "================================================================================\n",
      "                   coef    std err          t      P>|t|      [0.025      0.975]\n",
      "--------------------------------------------------------------------------------\n",
      "Intercept        0.4355      0.013     33.562      0.000       0.410       0.461\n",
      "pyth_win_pct     0.1830      0.043      4.220      0.000       0.097       0.269\n",
      "==============================================================================\n",
      "Omnibus:                       18.766   Durbin-Watson:                   1.766\n",
      "Prob(Omnibus):                  0.000   Jarque-Bera (JB):               27.491\n",
      "Skew:                          -0.606   Prob(JB):                     1.07e-06\n",
      "Kurtosis:                       4.476   Cond. No.                         4.87\n",
      "==============================================================================\n",
      "\n",
      "Warnings:\n",
      "[1] Standard Errors assume that the covariance matrix of the errors is correctly specified.\n"
     ]
    }
   ],
   "source": [
    "#Your Code Here\n",
    "reg8 = sm.ols(formula = 'win_pct ~ pyth_win_pct', data= NHL_Team_Stats).fit()\n",
    "print(reg8.summary())"
   ]
  },
  {
   "cell_type": "markdown",
   "metadata": {},
   "source": [
    "5. Create a scatter plot to show the relationship between winning percentage and Pythagorean winning percentage, seperate the data points by the type of competition.\n"
   ]
  },
  {
   "cell_type": "code",
   "execution_count": 48,
   "metadata": {},
   "outputs": [
    {
     "data": {
      "text/plain": [
       "<matplotlib.axes._subplots.AxesSubplot at 0x7fa23b83ca58>"
      ]
     },
     "execution_count": 48,
     "metadata": {},
     "output_type": "execute_result"
    },
    {
     "data": {
      "image/png": "[encoded data removed]",
      "text/plain": [
       "<Figure size 432x288 with 1 Axes>"
      ]
     },
     "metadata": {
      "needs_background": "light"
     },
     "output_type": "display_data"
    }
   ],
   "source": [
    "#Your Code Here\n",
    "#sns.relplot(data=NHL_Team_Stats, x='pyth_win_pct', y='win_pct', kind='scatter',height=6, aspect=1.2, hue='type')\n",
    "sns.scatterplot(data=NHL_Team_Stats, x='pyth_win_pct', y='win_pct', hue='type', palette=sns.color_palette(\"Set1\", 2))\n"
   ]
  },
  {
   "cell_type": "markdown",
   "metadata": {},
   "source": [
    "6. Run a regression (reg9) where winning percentage is the dependent variable and Pythagorean winning percentage is the explanatory variable, controlling for the different competitions.\n",
    "7. Interpret the estimate on the Pythagorean winning percentage and the goodness of fit of the regression model."
   ]
  },
  {
   "cell_type": "code",
   "execution_count": 53,
   "metadata": {},
   "outputs": [
    {
     "name": "stdout",
     "output_type": "stream",
     "text": [
      "                            OLS Regression Results                            \n",
      "==============================================================================\n",
      "Dep. Variable:                win_pct   R-squared:                       0.097\n",
      "Model:                            OLS   Adj. R-squared:                  0.087\n",
      "Method:                 Least Squares   F-statistic:                     9.553\n",
      "Date:                Tue, 16 Nov 2021   Prob (F-statistic):           0.000115\n",
      "Time:                        07:50:32   Log-Likelihood:                 120.92\n",
      "No. Observations:                 181   AIC:                            -235.8\n",
      "Df Residuals:                     178   BIC:                            -226.2\n",
      "Df Model:                           2                                         \n",
      "Covariance Type:            nonrobust                                         \n",
      "================================================================================\n",
      "                   coef    std err          t      P>|t|      [0.025      0.975]\n",
      "--------------------------------------------------------------------------------\n",
      "Intercept        0.4555      0.022     20.722      0.000       0.412       0.499\n",
      "type[T.3]       -0.0299      0.027     -1.126      0.262      -0.082       0.022\n",
      "pyth_win_pct     0.1378      0.059      2.333      0.021       0.021       0.254\n",
      "==============================================================================\n",
      "Omnibus:                       15.780   Durbin-Watson:                   1.809\n",
      "Prob(Omnibus):                  0.000   Jarque-Bera (JB):               22.112\n",
      "Skew:                          -0.535   Prob(JB):                     1.58e-05\n",
      "Kurtosis:                       4.336   Cond. No.                         7.63\n",
      "==============================================================================\n",
      "\n",
      "Warnings:\n",
      "[1] Standard Errors assume that the covariance matrix of the errors is correctly specified.\n"
     ]
    }
   ],
   "source": [
    "#Your Code Here\n",
    "reg9 = sm.ols(formula = 'win_pct ~ pyth_win_pct+type', data= NHL_Team_Stats).fit()\n",
    "print(reg9.summary())"
   ]
  },
  {
   "cell_type": "markdown",
   "metadata": {},
   "source": [
    "8. Run a regression (reg10) where winning percentage is the dependent variable and Pythagorean winning percentage, competition, and the interaction between competition and Pythagorean are the explanatory variables\n",
    "9. Interpret the estimate on the Pythagorean winning percentage and the goodness of fit of the regression model"
   ]
  },
  {
   "cell_type": "code",
   "execution_count": 52,
   "metadata": {},
   "outputs": [
    {
     "name": "stdout",
     "output_type": "stream",
     "text": [
      "                            OLS Regression Results                            \n",
      "==============================================================================\n",
      "Dep. Variable:                win_pct   R-squared:                       0.323\n",
      "Model:                            OLS   Adj. R-squared:                  0.312\n",
      "Method:                 Least Squares   F-statistic:                     28.17\n",
      "Date:                Tue, 16 Nov 2021   Prob (F-statistic):           6.13e-15\n",
      "Time:                        07:50:17   Log-Likelihood:                 147.01\n",
      "No. Observations:                 181   AIC:                            -286.0\n",
      "Df Residuals:                     177   BIC:                            -273.2\n",
      "Df Model:                           3                                         \n",
      "Covariance Type:            nonrobust                                         \n",
      "==========================================================================================\n",
      "                             coef    std err          t      P>|t|      [0.025      0.975]\n",
      "------------------------------------------------------------------------------------------\n",
      "Intercept                  0.4623      0.019     24.198      0.000       0.425       0.500\n",
      "type[T.3]                 -0.1192      0.026     -4.621      0.000      -0.170      -0.068\n",
      "pyth_win_pct               0.1163      0.051      2.265      0.025       0.015       0.218\n",
      "pyth_win_pct:type[T.3]     7.2683      0.945      7.691      0.000       5.403       9.133\n",
      "==============================================================================\n",
      "Omnibus:                       11.474   Durbin-Watson:                   2.071\n",
      "Prob(Omnibus):                  0.003   Jarque-Bera (JB):               12.766\n",
      "Skew:                          -0.502   Prob(JB):                      0.00169\n",
      "Kurtosis:                       3.828   Cond. No.                         128.\n",
      "==============================================================================\n",
      "\n",
      "Warnings:\n",
      "[1] Standard Errors assume that the covariance matrix of the errors is correctly specified.\n"
     ]
    }
   ],
   "source": [
    "#Your Code Here\n",
    "reg9 = sm.ols(formula = 'win_pct ~ pyth_win_pct+type+pyth_win_pct*type', data= NHL_Team_Stats).fit()\n",
    "print(reg9.summary())"
   ]
  },
  {
   "cell_type": "markdown",
   "metadata": {},
   "source": [
    "10. Discussion question: how well does Pythagorean winning percentage predicts the actual winning percentage based on our data?"
   ]
  }
 ],
 "metadata": {
  "kernelspec": {
   "display_name": "Python 3",
   "language": "python",
   "name": "python3"
  },
  "language_info": {
   "codemirror_mode": {
    "name": "ipython",
    "version": 3
   },
   "file_extension": ".py",
   "mimetype": "text/x-python",
   "name": "python",
   "nbconvert_exporter": "python",
   "pygments_lexer": "ipython3",
   "version": "3.6.7"
  }
 },
 "nbformat": 4,
 "nbformat_minor": 2
}
